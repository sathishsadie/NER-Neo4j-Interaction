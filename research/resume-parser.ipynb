{
 "cells": [
  {
   "cell_type": "code",
   "execution_count": 1,
   "id": "2e7a9772-5c7c-4f8a-9835-02d749b463b6",
   "metadata": {},
   "outputs": [],
   "source": [
    "# !pip uninstall spacy"
   ]
  },
  {
   "cell_type": "code",
   "execution_count": 2,
   "id": "7a1f09f7-a6bf-426f-94bc-78c9b07d1185",
   "metadata": {},
   "outputs": [],
   "source": [
    "# !python -m spacy download en_core_web_sm"
   ]
  },
  {
   "cell_type": "markdown",
   "id": "da4ecb44-8e6e-49c2-9972-71b332a86f9e",
   "metadata": {},
   "source": [
    "## Import the Spacy library and load the model"
   ]
  },
  {
   "cell_type": "code",
   "execution_count": 1,
   "id": "c946cd8d-c62f-4a94-8858-d3eae2f595d2",
   "metadata": {},
   "outputs": [],
   "source": [
    "import spacy"
   ]
  },
  {
   "cell_type": "code",
   "execution_count": 3,
   "id": "5d58b924-8595-4367-bcd4-f89fe6d41d64",
   "metadata": {},
   "outputs": [],
   "source": [
    "nlp = spacy.load('en_core_web_sm')"
   ]
  },
  {
   "cell_type": "code",
   "execution_count": 5,
   "id": "6f6729c5-bca3-4d07-b163-7f0f476f0f7c",
   "metadata": {},
   "outputs": [],
   "source": [
    "texts = [\n",
    "        \"Mark Zuckerberg is the CEO and founder of Facebook, which is based in Menlo Park.\",\n",
    "        \"Elon Musk is the founder of SpaceX and the CEO of Tesla, located in Palo Alto.\",\n",
    "        \"Sundar Pichai is the CEO of Google, and its headquarters is based in Mountain View.\",\n",
    "        \"Bill Gates, the founder of Microsoft, is a prominent figure in the tech industry.\"\n",
    "    ]"
   ]
  },
  {
   "cell_type": "markdown",
   "id": "ee32c2fe-25f1-4cc8-8acb-53666369b2f6",
   "metadata": {},
   "source": [
    "## Find the Named Entities in the Text"
   ]
  },
  {
   "cell_type": "code",
   "execution_count": 10,
   "id": "c30d46ec-b4ad-4d91-bae6-e9a466297330",
   "metadata": {},
   "outputs": [
    {
     "name": "stdout",
     "output_type": "stream",
     "text": [
      "Mark Zuckerberg is the CEO and founder of Facebook, which is based in Menlo Park. \n",
      "\n",
      "text : Mark Zuckerberg \n",
      "label : PERSON \n",
      "label defenition:  People, including fictional\n",
      "text : Menlo Park \n",
      "label : GPE \n",
      "label defenition:  Countries, cities, states\n",
      "\n",
      "Elon Musk is the founder of SpaceX and the CEO of Tesla, located in Palo Alto. \n",
      "\n",
      "text : Elon Musk \n",
      "label : PERSON \n",
      "label defenition:  People, including fictional\n",
      "text : SpaceX \n",
      "label : PERSON \n",
      "label defenition:  People, including fictional\n",
      "text : Tesla \n",
      "label : ORG \n",
      "label defenition:  Companies, agencies, institutions, etc.\n",
      "text : Palo Alto \n",
      "label : GPE \n",
      "label defenition:  Countries, cities, states\n",
      "\n",
      "Sundar Pichai is the CEO of Google, and its headquarters is based in Mountain View. \n",
      "\n",
      "text : Sundar Pichai \n",
      "label : PERSON \n",
      "label defenition:  People, including fictional\n",
      "text : Google \n",
      "label : ORG \n",
      "label defenition:  Companies, agencies, institutions, etc.\n",
      "text : Mountain View \n",
      "label : GPE \n",
      "label defenition:  Countries, cities, states\n",
      "\n",
      "Bill Gates, the founder of Microsoft, is a prominent figure in the tech industry. \n",
      "\n",
      "text : Bill Gates \n",
      "label : PERSON \n",
      "label defenition:  People, including fictional\n",
      "text : Microsoft \n",
      "label : ORG \n",
      "label defenition:  Companies, agencies, institutions, etc.\n",
      "\n"
     ]
    }
   ],
   "source": [
    "for text in texts:\n",
    "    print(text,\"\\n\")\n",
    "    doc = nlp(text)\n",
    "    for ent in doc.ents:\n",
    "        print(\"text :\",ent.text,\"\\nlabel :\",ent.label_,'\\nlabel defenition: ',spacy.explain(ent.label_))\n",
    "    print()"
   ]
  },
  {
   "cell_type": "markdown",
   "id": "1f5a97e2-6b21-423d-832a-002959fa9559",
   "metadata": {},
   "source": [
    "## Use Graph Database to store the label and text"
   ]
  },
  {
   "cell_type": "code",
   "execution_count": 24,
   "id": "db5e5b14-c462-4f96-b693-2998b27c885f",
   "metadata": {},
   "outputs": [],
   "source": [
    "from neo4j import GraphDatabase\n",
    "from spacy.matcher import Matcher\n",
    "uri = \"bolt://localhost:7687\"\n",
    "driver = GraphDatabase.driver(uri, auth=(\"neo4j\", \"sadiesadie\"))"
   ]
  },
  {
   "cell_type": "code",
   "execution_count": 25,
   "id": "1ddcaf95-9688-4e20-9f1f-da5af41f463f",
   "metadata": {},
   "outputs": [],
   "source": [
    "def execute_query(query, parameters=None):\n",
    "    with driver.session() as session:\n",
    "        session.run(query, parameters)"
   ]
  },
  {
   "cell_type": "code",
   "execution_count": 26,
   "id": "e9dfd720-3f01-4fd1-99af-8219b490b74b",
   "metadata": {},
   "outputs": [],
   "source": [
    "def create_entity_nodes(entities):\n",
    "    for entity in entities:\n",
    "        label = \"\"\n",
    "        if entity[\"label\"] == \"PERSON\":\n",
    "            label = \"Person\"\n",
    "        elif entity[\"label\"] == \"ORG\":\n",
    "            label = \"Organization\"\n",
    "        elif entity[\"label\"] == \"GPE\":\n",
    "            label = \"Location\"\n",
    "        elif entity[\"label\"] == \"CONCEPT\":\n",
    "            label = \"Concept\"\n",
    "        \n",
    "        query = f\"\"\"\n",
    "        MERGE (n:{label} {{name: $name}})\n",
    "        \"\"\"\n",
    "        parameters = {\"name\": entity[\"text\"]}\n",
    "        execute_query(query, parameters)"
   ]
  },
  {
   "cell_type": "code",
   "execution_count": 27,
   "id": "1935c5b3-e6c7-4ed3-882e-cf60fe2c014a",
   "metadata": {},
   "outputs": [],
   "source": [
    "def create_relationship(subject, object, relationship):\n",
    "    query = \"\"\"\n",
    "    MATCH (s {name: $subject_name})\n",
    "    MATCH (o {name: $object_name})\n",
    "    MERGE (s)-[:RELATIONSHIP {name: $relationship}]->(o)\n",
    "    \"\"\"\n",
    "    parameters = {\n",
    "        \"subject_name\": subject,\n",
    "        \"object_name\": object,\n",
    "        \"relationship\": relationship\n",
    "    }\n",
    "    execute_query(query, parameters)"
   ]
  },
  {
   "cell_type": "code",
   "execution_count": 28,
   "id": "bba254f1-a9bf-4629-a52c-c2cc878e656c",
   "metadata": {},
   "outputs": [],
   "source": [
    "def extract_ner_entities(text):\n",
    "    doc = nlp(text)\n",
    "    entities = [{\"text\": ent.text, \"label\": ent.label_} for ent in doc.ents]\n",
    "    return entities"
   ]
  },
  {
   "cell_type": "code",
   "execution_count": 32,
   "id": "d8edae32-f446-47df-bb93-68b1d89a0350",
   "metadata": {},
   "outputs": [],
   "source": [
    "# def detect_high_level_concepts(text):\n",
    "#     doc = nlp(text)\n",
    "#     matcher = Matcher(nlp.vocab)\n",
    "    \n",
    "#     # Define patterns for high-level concepts\n",
    "#     patterns = [\n",
    "#         [{\"LOWER\": \"ceo\"}],\n",
    "#         [{\"LOWER\": \"founder\"}],\n",
    "#         [{\"LOWER\": \"based\"}, {\"LOWER\": \"in\"}],\n",
    "#         # Add more patterns as needed\n",
    "#     ]\n",
    "    \n",
    "#     matcher.add(\"HighLevelConcepts\", patterns)\n",
    "#     matches = matcher(doc)\n",
    "    \n",
    "#     concepts = []\n",
    "#     for match_id, start, end in matches:\n",
    "#         span = doc[start:end]\n",
    "#         concepts.append({\"text\": span.text, \"label\": \"CONCEPT\"})\n",
    "    \n",
    "#     return concepts"
   ]
  },
  {
   "cell_type": "code",
   "execution_count": 35,
   "id": "bffe7968-dd14-4894-b39b-a856c5cb32b2",
   "metadata": {},
   "outputs": [],
   "source": [
    "def process_multiple_texts_and_store_in_neo4j(texts):\n",
    "    for text in texts:\n",
    "        print(f\"Processing text: {text}\")\n",
    "        # Step 1: Extract entities using NER\n",
    "        entities = extract_ner_entities(text)\n",
    "        \n",
    "        # Step 2: Detect high-level concepts\n",
    "        # concepts = detect_high_level_concepts(text)\n",
    "        \n",
    "        # Combine entities and concepts\n",
    "        all_entities = entities\n",
    "        \n",
    "        # Step 3: Store entities and concepts in Neo4j as nodes\n",
    "        create_entity_nodes(all_entities)\n",
    "        \n",
    "        # Step 4: Create relationships\n",
    "        doc = nlp(text)\n",
    "        for sent in doc.sents:\n",
    "            for token in sent:\n",
    "                if token.dep_ in [\"nsubj\", \"nsubjpass\"]:\n",
    "                    subject = token.text\n",
    "                    for child in token.head.children:\n",
    "                        print(child,'  chch')\n",
    "                        if child.dep_ in [\"dobj\", \"pobj\"]:\n",
    "                            print('hii',token,child)\n",
    "                            object = child.text\n",
    "                            relationship = token.head.text\n",
    "                            create_relationship(subject, object, relationship)"
   ]
  },
  {
   "cell_type": "code",
   "execution_count": 36,
   "id": "fe24bf01-94f9-423c-a440-c93c1a1799c9",
   "metadata": {},
   "outputs": [
    {
     "name": "stdout",
     "output_type": "stream",
     "text": [
      "Processing text: Mark Zuckerberg is the CEO and founder of Facebook, which is based in Menlo Park.\n"
     ]
    },
    {
     "name": "stderr",
     "output_type": "stream",
     "text": [
      "C:\\Users\\Sathish G\\AppData\\Local\\Temp\\ipykernel_16132\\3856552361.py:2: DeprecationWarning: Using a driver after it has been closed is deprecated. Future versions of the driver will raise an error.\n",
      "  with driver.session() as session:\n"
     ]
    },
    {
     "name": "stdout",
     "output_type": "stream",
     "text": [
      "Zuckerberg   chch\n",
      "CEO   chch\n",
      ".   chch\n",
      "which   chch\n",
      "is   chch\n",
      "in   chch\n",
      "Processing text: Elon Musk is the founder of SpaceX and the CEO of Tesla, located in Palo Alto.\n",
      "Musk   chch\n",
      "founder   chch\n",
      ".   chch\n",
      "Processing text: Sundar Pichai is the CEO of Google, and its headquarters is based in Mountain View.\n",
      "Pichai   chch\n",
      "CEO   chch\n",
      ",   chch\n",
      "and   chch\n",
      "based   chch\n",
      "headquarters   chch\n",
      "is   chch\n",
      "in   chch\n",
      ".   chch\n",
      "Processing text: Bill Gates, the founder of Microsoft, is a prominent figure in the tech industry.\n",
      "Gates   chch\n",
      "figure   chch\n",
      ".   chch\n"
     ]
    }
   ],
   "source": [
    "sample_texts = [\n",
    "        \"Mark Zuckerberg is the CEO and founder of Facebook, which is based in Menlo Park.\",\n",
    "        \"Elon Musk is the founder of SpaceX and the CEO of Tesla, located in Palo Alto.\",\n",
    "        \"Sundar Pichai is the CEO of Google, and its headquarters is based in Mountain View.\",\n",
    "        \"Bill Gates, the founder of Microsoft, is a prominent figure in the tech industry.\"\n",
    "    ]\n",
    "    \n",
    "    # Process each text and store it in Neo4j\n",
    "process_multiple_texts_and_store_in_neo4j(sample_texts)\n",
    "    \n",
    "    # Close the Neo4j connection when done\n",
    "driver.close()"
   ]
  },
  {
   "cell_type": "code",
   "execution_count": null,
   "id": "c7898825-2fbf-4b87-ac4c-31917e44ed28",
   "metadata": {},
   "outputs": [],
   "source": []
  }
 ],
 "metadata": {
  "kernelspec": {
   "display_name": "Python 3 (ipykernel)",
   "language": "python",
   "name": "python3"
  },
  "language_info": {
   "codemirror_mode": {
    "name": "ipython",
    "version": 3
   },
   "file_extension": ".py",
   "mimetype": "text/x-python",
   "name": "python",
   "nbconvert_exporter": "python",
   "pygments_lexer": "ipython3",
   "version": "3.11.7"
  }
 },
 "nbformat": 4,
 "nbformat_minor": 5
}
